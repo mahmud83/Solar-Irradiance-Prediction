{
 "cells": [
  {
   "cell_type": "markdown",
   "metadata": {
    "colab_type": "text",
    "id": "-UoHWzfiyfnF"
   },
   "source": [
    "# Solar Irradiance Prediction"
   ]
  },
  {
   "cell_type": "markdown",
   "metadata": {
    "colab_type": "text",
    "id": "IArr_JcWyhAq"
   },
   "source": [
    "Site data generated for the location Plataforma Solar de Almeria, Spain\n",
    "Coordinates: 37.094416°N, 2.359850°W\n",
    "Elevation: 497.0 m a.s.l.\n",
    "\n",
    "Time period: 1994-2016 (23 years of data)\n",
    "\n",
    "**GHI** : Global horizontal irradiation [Wh/m²]\n",
    "\n",
    "**DNI** : Direct normal irradiation [Wh/m²]\n",
    "\n",
    "**DIF** : Diffuse horizontal irradiation [Wh/m²]\n",
    "\n",
    "**GTI** : Global tilted irradiation [Wh/m²] (fixed inclination: 33 deg. azimuth: 180 deg.)\n",
    "\n",
    "**flagR** : Cloud identification quality   \n",
    "\n",
    "```\n",
    "flag: 0: sun below horizon,  \n",
    "      1: model value,  \n",
    "      2: interpolated 1hour,  \n",
    "      5: long term monthly median or persistence,  \n",
    "      6: synthetic data,  \n",
    "      11:NWP forecast\n",
    "```\n",
    "\n",
    "**SE** : Sun altitude (elevation) angle [deg.]\n",
    "\n",
    "**SA** : Sun azimuth angle [deg.]\n",
    "\n",
    "**TEMP** : Air temperature at 2 m [deg. C]\n",
    "\n",
    "**AP** : Atmospheric pressure [hPa]\n",
    "\n",
    "**RH** : Relative humidity [%]\n",
    "\n",
    "**WS** : Wind speed at 10 m [m/s]\n",
    "\n",
    "**WD** : Wind direction [deg.]\n",
    "\n",
    "**PWAT** : Precipitable water [kg/m²]"
   ]
  },
  {
   "cell_type": "markdown",
   "metadata": {
    "colab_type": "text",
    "id": "cJDAMvSUyn2g"
   },
   "source": [
    "### Multivariate Forecasting using RNN-LSTM."
   ]
  },
  {
   "cell_type": "markdown",
   "metadata": {
    "colab_type": "text",
    "id": "9m5rYQGZy39A"
   },
   "source": [
    "Import the libraries."
   ]
  },
  {
   "cell_type": "code",
   "execution_count": 1,
   "metadata": {
    "colab": {
     "autoexec": {
      "startup": false,
      "wait_interval": 0
     },
     "base_uri": "https://localhost:8080/",
     "height": 34
    },
    "colab_type": "code",
    "executionInfo": {
     "elapsed": 2679,
     "status": "ok",
     "timestamp": 1531390135955,
     "user": {
      "displayName": "Akshaj Verma",
      "photoUrl": "https://lh3.googleusercontent.com/a/default-user=s128",
      "userId": "112190834652344403648"
     },
     "user_tz": -330
    },
    "id": "E9FAcXIOymZI",
    "outputId": "f32e5997-44d7-48ff-d436-13a946a3f577"
   },
   "outputs": [
    {
     "name": "stderr",
     "output_type": "stream",
     "text": [
      "Using TensorFlow backend.\n"
     ]
    }
   ],
   "source": [
    "import numpy as np\n",
    "import pandas as pd\n",
    "import seaborn as sns\n",
    "import matplotlib.pyplot as plt\n",
    "\n",
    "from sklearn.preprocessing import MinMaxScaler\n",
    "from sklearn.model_selection import train_test_split\n",
    "\n",
    "from keras.models import Sequential\n",
    "from keras.layers import Dense, LSTM, Dropout\n",
    "from keras.wrappers.scikit_learn import KerasClassifier\n",
    "from sklearn.model_selection import cross_val_score, GridSearchCV\n",
    "from keras.callbacks import EarlyStopping, ReduceLROnPlateau, ModelCheckpoint, TensorBoard\n",
    "\n",
    "\n",
    "%matplotlib inline\n",
    "sns.set_style(\"darkgrid\")"
   ]
  },
  {
   "cell_type": "code",
   "execution_count": 0,
   "metadata": {
    "colab": {
     "autoexec": {
      "startup": false,
      "wait_interval": 0
     }
    },
    "colab_type": "code",
    "id": "1g5Zt0HAliCV"
   },
   "outputs": [],
   "source": [
    "df = pd.read_csv(\"Solargis-TS-hourly-SOLARGIS-PlataformaSolardeAlmeria-Spain-v2-19940101-20161231.csv\", sep=\";\", parse_dates=['Date'])"
   ]
  },
  {
   "cell_type": "code",
   "execution_count": 3,
   "metadata": {
    "colab": {
     "autoexec": {
      "startup": false,
      "wait_interval": 0
     },
     "base_uri": "https://localhost:8080/",
     "height": 364
    },
    "colab_type": "code",
    "executionInfo": {
     "elapsed": 932,
     "status": "ok",
     "timestamp": 1531390178544,
     "user": {
      "displayName": "Akshaj Verma",
      "photoUrl": "https://lh3.googleusercontent.com/a/default-user=s128",
      "userId": "112190834652344403648"
     },
     "user_tz": -330
    },
    "id": "J-NGkwP4lnVV",
    "outputId": "56c73213-ae5f-4c7b-d041-2013d67ee79c"
   },
   "outputs": [
    {
     "name": "stdout",
     "output_type": "stream",
     "text": [
      "<class 'pandas.core.frame.DataFrame'>\n",
      "RangeIndex: 201624 entries, 0 to 201623\n",
      "Data columns (total 15 columns):\n",
      "Date     201624 non-null datetime64[ns]\n",
      "Time     201624 non-null object\n",
      "GHI      201624 non-null int64\n",
      "DNI      201624 non-null int64\n",
      "DIF      201624 non-null int64\n",
      "GTI      201624 non-null int64\n",
      "flagR    201624 non-null int64\n",
      "SE       201624 non-null float64\n",
      "SA       201624 non-null float64\n",
      "TEMP     201624 non-null float64\n",
      "AP       201624 non-null float64\n",
      "RH       201624 non-null float64\n",
      "WS       201624 non-null float64\n",
      "WD       201624 non-null int64\n",
      "PWAT     201624 non-null float64\n",
      "dtypes: datetime64[ns](1), float64(7), int64(6), object(1)\n",
      "memory usage: 23.1+ MB\n"
     ]
    }
   ],
   "source": [
    "df.info()"
   ]
  },
  {
   "cell_type": "code",
   "execution_count": 67,
   "metadata": {
    "colab": {
     "autoexec": {
      "startup": false,
      "wait_interval": 0
     },
     "base_uri": "https://localhost:8080/",
     "height": 300
    },
    "colab_type": "code",
    "executionInfo": {
     "elapsed": 1108,
     "status": "ok",
     "timestamp": 1531404079358,
     "user": {
      "displayName": "Akshaj Verma",
      "photoUrl": "https://lh3.googleusercontent.com/a/default-user=s128",
      "userId": "112190834652344403648"
     },
     "user_tz": -330
    },
    "id": "fEEBrb-Ky7tX",
    "outputId": "02c38404-c9f7-44b1-ab95-b18e903bd6ed"
   },
   "outputs": [
    {
     "data": {
      "text/html": [
       "<div>\n",
       "<style scoped>\n",
       "    .dataframe tbody tr th:only-of-type {\n",
       "        vertical-align: middle;\n",
       "    }\n",
       "\n",
       "    .dataframe tbody tr th {\n",
       "        vertical-align: top;\n",
       "    }\n",
       "\n",
       "    .dataframe thead th {\n",
       "        text-align: right;\n",
       "    }\n",
       "</style>\n",
       "<table border=\"1\" class=\"dataframe\">\n",
       "  <thead>\n",
       "    <tr style=\"text-align: right;\">\n",
       "      <th></th>\n",
       "      <th>Avg_rad</th>\n",
       "      <th>SE</th>\n",
       "      <th>SA</th>\n",
       "      <th>TEMP</th>\n",
       "      <th>AP</th>\n",
       "      <th>RH</th>\n",
       "      <th>WS</th>\n",
       "      <th>WD</th>\n",
       "      <th>PWAT</th>\n",
       "    </tr>\n",
       "  </thead>\n",
       "  <tbody>\n",
       "    <tr>\n",
       "      <th>count</th>\n",
       "      <td>8401.000000</td>\n",
       "      <td>8401.000000</td>\n",
       "      <td>8401.000000</td>\n",
       "      <td>8401.000000</td>\n",
       "      <td>8401.000000</td>\n",
       "      <td>8401.000000</td>\n",
       "      <td>8401.000000</td>\n",
       "      <td>8401.000000</td>\n",
       "      <td>8401.000000</td>\n",
       "    </tr>\n",
       "    <tr>\n",
       "      <th>mean</th>\n",
       "      <td>194.378121</td>\n",
       "      <td>0.336756</td>\n",
       "      <td>-1.702669</td>\n",
       "      <td>16.078459</td>\n",
       "      <td>959.991925</td>\n",
       "      <td>57.456262</td>\n",
       "      <td>3.176526</td>\n",
       "      <td>183.278285</td>\n",
       "      <td>15.939218</td>\n",
       "    </tr>\n",
       "    <tr>\n",
       "      <th>std</th>\n",
       "      <td>71.407863</td>\n",
       "      <td>12.362233</td>\n",
       "      <td>2.214741</td>\n",
       "      <td>6.771543</td>\n",
       "      <td>5.598426</td>\n",
       "      <td>15.375058</td>\n",
       "      <td>1.309607</td>\n",
       "      <td>85.139355</td>\n",
       "      <td>5.942468</td>\n",
       "    </tr>\n",
       "    <tr>\n",
       "      <th>min</th>\n",
       "      <td>8.697917</td>\n",
       "      <td>-17.444583</td>\n",
       "      <td>-5.359167</td>\n",
       "      <td>-3.675000</td>\n",
       "      <td>932.537500</td>\n",
       "      <td>9.445833</td>\n",
       "      <td>0.712500</td>\n",
       "      <td>17.041667</td>\n",
       "      <td>2.045833</td>\n",
       "    </tr>\n",
       "    <tr>\n",
       "      <th>25%</th>\n",
       "      <td>148.947917</td>\n",
       "      <td>-12.019167</td>\n",
       "      <td>-3.239167</td>\n",
       "      <td>10.470833</td>\n",
       "      <td>956.683333</td>\n",
       "      <td>46.483333</td>\n",
       "      <td>2.266667</td>\n",
       "      <td>99.083333</td>\n",
       "      <td>11.391667</td>\n",
       "    </tr>\n",
       "    <tr>\n",
       "      <th>50%</th>\n",
       "      <td>200.812500</td>\n",
       "      <td>0.622083</td>\n",
       "      <td>-1.858333</td>\n",
       "      <td>15.520833</td>\n",
       "      <td>960.012500</td>\n",
       "      <td>57.695833</td>\n",
       "      <td>2.883333</td>\n",
       "      <td>197.083333</td>\n",
       "      <td>15.583333</td>\n",
       "    </tr>\n",
       "    <tr>\n",
       "      <th>75%</th>\n",
       "      <td>256.010417</td>\n",
       "      <td>12.684167</td>\n",
       "      <td>-0.473750</td>\n",
       "      <td>22.045833</td>\n",
       "      <td>963.291667</td>\n",
       "      <td>68.733333</td>\n",
       "      <td>3.733333</td>\n",
       "      <td>259.125000</td>\n",
       "      <td>20.104167</td>\n",
       "    </tr>\n",
       "    <tr>\n",
       "      <th>max</th>\n",
       "      <td>315.218750</td>\n",
       "      <td>17.557083</td>\n",
       "      <td>2.475833</td>\n",
       "      <td>34.412500</td>\n",
       "      <td>982.920833</td>\n",
       "      <td>94.570833</td>\n",
       "      <td>10.620833</td>\n",
       "      <td>345.375000</td>\n",
       "      <td>37.808333</td>\n",
       "    </tr>\n",
       "  </tbody>\n",
       "</table>\n",
       "</div>"
      ],
      "text/plain": [
       "           Avg_rad           SE           SA         TEMP           AP  \\\n",
       "count  8401.000000  8401.000000  8401.000000  8401.000000  8401.000000   \n",
       "mean    194.378121     0.336756    -1.702669    16.078459   959.991925   \n",
       "std      71.407863    12.362233     2.214741     6.771543     5.598426   \n",
       "min       8.697917   -17.444583    -5.359167    -3.675000   932.537500   \n",
       "25%     148.947917   -12.019167    -3.239167    10.470833   956.683333   \n",
       "50%     200.812500     0.622083    -1.858333    15.520833   960.012500   \n",
       "75%     256.010417    12.684167    -0.473750    22.045833   963.291667   \n",
       "max     315.218750    17.557083     2.475833    34.412500   982.920833   \n",
       "\n",
       "                RH           WS           WD         PWAT  \n",
       "count  8401.000000  8401.000000  8401.000000  8401.000000  \n",
       "mean     57.456262     3.176526   183.278285    15.939218  \n",
       "std      15.375058     1.309607    85.139355     5.942468  \n",
       "min       9.445833     0.712500    17.041667     2.045833  \n",
       "25%      46.483333     2.266667    99.083333    11.391667  \n",
       "50%      57.695833     2.883333   197.083333    15.583333  \n",
       "75%      68.733333     3.733333   259.125000    20.104167  \n",
       "max      94.570833    10.620833   345.375000    37.808333  "
      ]
     },
     "execution_count": 67,
     "metadata": {
      "tags": []
     },
     "output_type": "execute_result"
    }
   ],
   "source": [
    "df.describe()"
   ]
  },
  {
   "cell_type": "code",
   "execution_count": 5,
   "metadata": {
    "colab": {
     "autoexec": {
      "startup": false,
      "wait_interval": 0
     },
     "base_uri": "https://localhost:8080/",
     "height": 206
    },
    "colab_type": "code",
    "executionInfo": {
     "elapsed": 1546,
     "status": "ok",
     "timestamp": 1531390182109,
     "user": {
      "displayName": "Akshaj Verma",
      "photoUrl": "https://lh3.googleusercontent.com/a/default-user=s128",
      "userId": "112190834652344403648"
     },
     "user_tz": -330
    },
    "id": "0Irbx6urnVsS",
    "outputId": "aea72518-a63f-4ca3-b1a7-7a4a0eb5162e"
   },
   "outputs": [
    {
     "data": {
      "text/html": [
       "<div>\n",
       "<style scoped>\n",
       "    .dataframe tbody tr th:only-of-type {\n",
       "        vertical-align: middle;\n",
       "    }\n",
       "\n",
       "    .dataframe tbody tr th {\n",
       "        vertical-align: top;\n",
       "    }\n",
       "\n",
       "    .dataframe thead th {\n",
       "        text-align: right;\n",
       "    }\n",
       "</style>\n",
       "<table border=\"1\" class=\"dataframe\">\n",
       "  <thead>\n",
       "    <tr style=\"text-align: right;\">\n",
       "      <th></th>\n",
       "      <th>Date</th>\n",
       "      <th>Time</th>\n",
       "      <th>GHI</th>\n",
       "      <th>DNI</th>\n",
       "      <th>DIF</th>\n",
       "      <th>GTI</th>\n",
       "      <th>flagR</th>\n",
       "      <th>SE</th>\n",
       "      <th>SA</th>\n",
       "      <th>TEMP</th>\n",
       "      <th>AP</th>\n",
       "      <th>RH</th>\n",
       "      <th>WS</th>\n",
       "      <th>WD</th>\n",
       "      <th>PWAT</th>\n",
       "    </tr>\n",
       "  </thead>\n",
       "  <tbody>\n",
       "    <tr>\n",
       "      <th>0</th>\n",
       "      <td>1994-01-01</td>\n",
       "      <td>00:30</td>\n",
       "      <td>0</td>\n",
       "      <td>0</td>\n",
       "      <td>0</td>\n",
       "      <td>0</td>\n",
       "      <td>0</td>\n",
       "      <td>-74.66</td>\n",
       "      <td>-162.92</td>\n",
       "      <td>10.8</td>\n",
       "      <td>969.6</td>\n",
       "      <td>60.3</td>\n",
       "      <td>3.3</td>\n",
       "      <td>322</td>\n",
       "      <td>12.6</td>\n",
       "    </tr>\n",
       "    <tr>\n",
       "      <th>1</th>\n",
       "      <td>1994-01-01</td>\n",
       "      <td>01:30</td>\n",
       "      <td>0</td>\n",
       "      <td>0</td>\n",
       "      <td>0</td>\n",
       "      <td>0</td>\n",
       "      <td>0</td>\n",
       "      <td>-67.59</td>\n",
       "      <td>-124.93</td>\n",
       "      <td>10.5</td>\n",
       "      <td>968.1</td>\n",
       "      <td>62.5</td>\n",
       "      <td>5.7</td>\n",
       "      <td>320</td>\n",
       "      <td>11.0</td>\n",
       "    </tr>\n",
       "    <tr>\n",
       "      <th>2</th>\n",
       "      <td>1994-01-01</td>\n",
       "      <td>02:30</td>\n",
       "      <td>0</td>\n",
       "      <td>0</td>\n",
       "      <td>0</td>\n",
       "      <td>0</td>\n",
       "      <td>0</td>\n",
       "      <td>-56.82</td>\n",
       "      <td>-105.59</td>\n",
       "      <td>10.0</td>\n",
       "      <td>968.2</td>\n",
       "      <td>63.5</td>\n",
       "      <td>6.1</td>\n",
       "      <td>323</td>\n",
       "      <td>9.5</td>\n",
       "    </tr>\n",
       "    <tr>\n",
       "      <th>3</th>\n",
       "      <td>1994-01-01</td>\n",
       "      <td>03:30</td>\n",
       "      <td>0</td>\n",
       "      <td>0</td>\n",
       "      <td>0</td>\n",
       "      <td>0</td>\n",
       "      <td>0</td>\n",
       "      <td>-45.07</td>\n",
       "      <td>-93.83</td>\n",
       "      <td>9.5</td>\n",
       "      <td>968.4</td>\n",
       "      <td>64.3</td>\n",
       "      <td>6.4</td>\n",
       "      <td>327</td>\n",
       "      <td>8.4</td>\n",
       "    </tr>\n",
       "    <tr>\n",
       "      <th>4</th>\n",
       "      <td>1994-01-01</td>\n",
       "      <td>04:30</td>\n",
       "      <td>0</td>\n",
       "      <td>0</td>\n",
       "      <td>0</td>\n",
       "      <td>0</td>\n",
       "      <td>0</td>\n",
       "      <td>-33.14</td>\n",
       "      <td>-84.78</td>\n",
       "      <td>9.0</td>\n",
       "      <td>968.6</td>\n",
       "      <td>64.9</td>\n",
       "      <td>6.2</td>\n",
       "      <td>331</td>\n",
       "      <td>7.5</td>\n",
       "    </tr>\n",
       "  </tbody>\n",
       "</table>\n",
       "</div>"
      ],
      "text/plain": [
       "        Date   Time  GHI  DNI  DIF  GTI  flagR     SE      SA  TEMP     AP  \\\n",
       "0 1994-01-01  00:30    0    0    0    0      0 -74.66 -162.92  10.8  969.6   \n",
       "1 1994-01-01  01:30    0    0    0    0      0 -67.59 -124.93  10.5  968.1   \n",
       "2 1994-01-01  02:30    0    0    0    0      0 -56.82 -105.59  10.0  968.2   \n",
       "3 1994-01-01  03:30    0    0    0    0      0 -45.07  -93.83   9.5  968.4   \n",
       "4 1994-01-01  04:30    0    0    0    0      0 -33.14  -84.78   9.0  968.6   \n",
       "\n",
       "     RH   WS   WD  PWAT  \n",
       "0  60.3  3.3  322  12.6  \n",
       "1  62.5  5.7  320  11.0  \n",
       "2  63.5  6.1  323   9.5  \n",
       "3  64.3  6.4  327   8.4  \n",
       "4  64.9  6.2  331   7.5  "
      ]
     },
     "execution_count": 5,
     "metadata": {
      "tags": []
     },
     "output_type": "execute_result"
    }
   ],
   "source": [
    "df.head()"
   ]
  },
  {
   "cell_type": "markdown",
   "metadata": {
    "colab_type": "text",
    "id": "TBhwKz5azAb2"
   },
   "source": [
    "Drop the `Time` column because we'll be making predictions based on average radiation per day.  \n",
    "Drop the `flagR` column."
   ]
  },
  {
   "cell_type": "code",
   "execution_count": 0,
   "metadata": {
    "colab": {
     "autoexec": {
      "startup": false,
      "wait_interval": 0
     }
    },
    "colab_type": "code",
    "id": "_x4XQAP-nbF_"
   },
   "outputs": [],
   "source": [
    "df.drop([\"Time\"], axis=1, inplace=True)\n",
    "df.drop([\"flagR\"], axis=1, inplace=True)"
   ]
  },
  {
   "cell_type": "markdown",
   "metadata": {
    "colab_type": "text",
    "id": "Epp0CZT_rWkx"
   },
   "source": [
    "Getting the average/day of all the attributes.\n",
    "\n",
    "\n",
    "\n"
   ]
  },
  {
   "cell_type": "code",
   "execution_count": 0,
   "metadata": {
    "colab": {
     "autoexec": {
      "startup": false,
      "wait_interval": 0
     }
    },
    "colab_type": "code",
    "id": "2StE3B2KoqV2"
   },
   "outputs": [],
   "source": [
    "df['Avg_rad'] = (df.GHI + df.DNI + df.DIF + df.GTI)/4"
   ]
  },
  {
   "cell_type": "code",
   "execution_count": 0,
   "metadata": {
    "colab": {
     "autoexec": {
      "startup": false,
      "wait_interval": 0
     }
    },
    "colab_type": "code",
    "id": "-7f7NgcDrAmn"
   },
   "outputs": [],
   "source": [
    "df = df.groupby(\"Date\").mean()[[\"Avg_rad\", \"SE\", \"SA\", \"TEMP\", \"AP\", \"RH\", \"WS\", \"WD\", \"PWAT\"]]"
   ]
  },
  {
   "cell_type": "code",
   "execution_count": 10,
   "metadata": {
    "colab": {
     "autoexec": {
      "startup": false,
      "wait_interval": 0
     },
     "base_uri": "https://localhost:8080/",
     "height": 238
    },
    "colab_type": "code",
    "executionInfo": {
     "elapsed": 1080,
     "status": "ok",
     "timestamp": 1531390189529,
     "user": {
      "displayName": "Akshaj Verma",
      "photoUrl": "https://lh3.googleusercontent.com/a/default-user=s128",
      "userId": "112190834652344403648"
     },
     "user_tz": -330
    },
    "id": "gAwlYh3fvvAh",
    "outputId": "5ca88925-0a38-47af-d57f-1ede3d0109d2"
   },
   "outputs": [
    {
     "data": {
      "text/html": [
       "<div>\n",
       "<style scoped>\n",
       "    .dataframe tbody tr th:only-of-type {\n",
       "        vertical-align: middle;\n",
       "    }\n",
       "\n",
       "    .dataframe tbody tr th {\n",
       "        vertical-align: top;\n",
       "    }\n",
       "\n",
       "    .dataframe thead th {\n",
       "        text-align: right;\n",
       "    }\n",
       "</style>\n",
       "<table border=\"1\" class=\"dataframe\">\n",
       "  <thead>\n",
       "    <tr style=\"text-align: right;\">\n",
       "      <th></th>\n",
       "      <th>Avg_rad</th>\n",
       "      <th>SE</th>\n",
       "      <th>SA</th>\n",
       "      <th>TEMP</th>\n",
       "      <th>AP</th>\n",
       "      <th>RH</th>\n",
       "      <th>WS</th>\n",
       "      <th>WD</th>\n",
       "      <th>PWAT</th>\n",
       "    </tr>\n",
       "    <tr>\n",
       "      <th>Date</th>\n",
       "      <th></th>\n",
       "      <th></th>\n",
       "      <th></th>\n",
       "      <th></th>\n",
       "      <th></th>\n",
       "      <th></th>\n",
       "      <th></th>\n",
       "      <th></th>\n",
       "      <th></th>\n",
       "    </tr>\n",
       "  </thead>\n",
       "  <tbody>\n",
       "    <tr>\n",
       "      <th>1994-01-01</th>\n",
       "      <td>154.916667</td>\n",
       "      <td>-17.118333</td>\n",
       "      <td>-2.526667</td>\n",
       "      <td>11.808333</td>\n",
       "      <td>968.900000</td>\n",
       "      <td>44.304167</td>\n",
       "      <td>4.195833</td>\n",
       "      <td>301.375000</td>\n",
       "      <td>6.641667</td>\n",
       "    </tr>\n",
       "    <tr>\n",
       "      <th>1994-01-02</th>\n",
       "      <td>183.802083</td>\n",
       "      <td>-12.861250</td>\n",
       "      <td>-5.042500</td>\n",
       "      <td>7.437500</td>\n",
       "      <td>965.879167</td>\n",
       "      <td>66.295833</td>\n",
       "      <td>1.420833</td>\n",
       "      <td>209.666667</td>\n",
       "      <td>9.058333</td>\n",
       "    </tr>\n",
       "    <tr>\n",
       "      <th>1994-01-03</th>\n",
       "      <td>89.604167</td>\n",
       "      <td>-5.719583</td>\n",
       "      <td>-4.917500</td>\n",
       "      <td>9.283333</td>\n",
       "      <td>956.462500</td>\n",
       "      <td>70.662500</td>\n",
       "      <td>3.275000</td>\n",
       "      <td>123.625000</td>\n",
       "      <td>13.420833</td>\n",
       "    </tr>\n",
       "    <tr>\n",
       "      <th>1994-01-04</th>\n",
       "      <td>213.489583</td>\n",
       "      <td>3.547917</td>\n",
       "      <td>-2.772083</td>\n",
       "      <td>17.562500</td>\n",
       "      <td>961.125000</td>\n",
       "      <td>36.558333</td>\n",
       "      <td>4.900000</td>\n",
       "      <td>310.000000</td>\n",
       "      <td>13.445833</td>\n",
       "    </tr>\n",
       "    <tr>\n",
       "      <th>1994-01-05</th>\n",
       "      <td>296.333333</td>\n",
       "      <td>11.472500</td>\n",
       "      <td>-0.962917</td>\n",
       "      <td>14.608333</td>\n",
       "      <td>965.758333</td>\n",
       "      <td>50.462500</td>\n",
       "      <td>2.154167</td>\n",
       "      <td>87.666667</td>\n",
       "      <td>8.287500</td>\n",
       "    </tr>\n",
       "  </tbody>\n",
       "</table>\n",
       "</div>"
      ],
      "text/plain": [
       "               Avg_rad         SE        SA       TEMP          AP         RH  \\\n",
       "Date                                                                            \n",
       "1994-01-01  154.916667 -17.118333 -2.526667  11.808333  968.900000  44.304167   \n",
       "1994-01-02  183.802083 -12.861250 -5.042500   7.437500  965.879167  66.295833   \n",
       "1994-01-03   89.604167  -5.719583 -4.917500   9.283333  956.462500  70.662500   \n",
       "1994-01-04  213.489583   3.547917 -2.772083  17.562500  961.125000  36.558333   \n",
       "1994-01-05  296.333333  11.472500 -0.962917  14.608333  965.758333  50.462500   \n",
       "\n",
       "                  WS          WD       PWAT  \n",
       "Date                                         \n",
       "1994-01-01  4.195833  301.375000   6.641667  \n",
       "1994-01-02  1.420833  209.666667   9.058333  \n",
       "1994-01-03  3.275000  123.625000  13.420833  \n",
       "1994-01-04  4.900000  310.000000  13.445833  \n",
       "1994-01-05  2.154167   87.666667   8.287500  "
      ]
     },
     "execution_count": 10,
     "metadata": {
      "tags": []
     },
     "output_type": "execute_result"
    }
   ],
   "source": [
    "df.head()"
   ]
  },
  {
   "cell_type": "markdown",
   "metadata": {
    "colab_type": "text",
    "id": "57Ugzonrvw0E"
   },
   "source": [
    "**We'll be predicting the Average Radiation based on all the other parameters.  \n",
    "train : 8232 rows  \n",
    "test: 169 rows**\n",
    "\n",
    "**train :  1994-01-06 to 2016-07-15**  \n",
    "**test:  2016-07-16 to 2016-12-31**"
   ]
  },
  {
   "cell_type": "code",
   "execution_count": 0,
   "metadata": {
    "colab": {
     "autoexec": {
      "startup": false,
      "wait_interval": 0
     }
    },
    "colab_type": "code",
    "id": "o-EqXi_-rmCc"
   },
   "outputs": [],
   "source": [
    "dataset_train, dataset_test = train_test_split(df, test_size=0.02, shuffle=False)"
   ]
  },
  {
   "cell_type": "code",
   "execution_count": 0,
   "metadata": {
    "colab": {
     "autoexec": {
      "startup": false,
      "wait_interval": 0
     }
    },
    "colab_type": "code",
    "id": "thOk_A9JtohR"
   },
   "outputs": [],
   "source": [
    "dataset_train.reset_index(inplace=True)\n",
    "dataset_test.reset_index(inplace=True)"
   ]
  },
  {
   "cell_type": "markdown",
   "metadata": {
    "colab_type": "text",
    "id": "YGBz9HAwwk_P"
   },
   "source": [
    "**Test data.**"
   ]
  },
  {
   "cell_type": "code",
   "execution_count": 13,
   "metadata": {
    "colab": {
     "autoexec": {
      "startup": false,
      "wait_interval": 0
     },
     "base_uri": "https://localhost:8080/",
     "height": 337
    },
    "colab_type": "code",
    "executionInfo": {
     "elapsed": 1560,
     "status": "ok",
     "timestamp": 1531390193986,
     "user": {
      "displayName": "Akshaj Verma",
      "photoUrl": "https://lh3.googleusercontent.com/a/default-user=s128",
      "userId": "112190834652344403648"
     },
     "user_tz": -330
    },
    "id": "0mbhC2ceu9r_",
    "outputId": "67845107-e031-4511-a030-b89142060608"
   },
   "outputs": [
    {
     "data": {
      "text/plain": [
       "<matplotlib.axes._subplots.AxesSubplot at 0x7f29d8249da0>"
      ]
     },
     "execution_count": 13,
     "metadata": {
      "tags": []
     },
     "output_type": "execute_result"
    },
    {
     "data": {
      "image/png": "[encoded data removed]",
      "text/plain": [
       "<matplotlib.figure.Figure at 0x7f29d82368d0>"
      ]
     },
     "metadata": {
      "tags": []
     },
     "output_type": "display_data"
    }
   ],
   "source": [
    "plt.figure(figsize=(20, 5))\n",
    "dataset_test[\"Avg_rad\"].plot()"
   ]
  },
  {
   "cell_type": "markdown",
   "metadata": {
    "colab_type": "text",
    "id": "cXSpd5Xiwn_p"
   },
   "source": [
    "**Train data.**"
   ]
  },
  {
   "cell_type": "code",
   "execution_count": 14,
   "metadata": {
    "colab": {
     "autoexec": {
      "startup": false,
      "wait_interval": 0
     },
     "base_uri": "https://localhost:8080/",
     "height": 337
    },
    "colab_type": "code",
    "executionInfo": {
     "elapsed": 3090,
     "status": "ok",
     "timestamp": 1531390197498,
     "user": {
      "displayName": "Akshaj Verma",
      "photoUrl": "https://lh3.googleusercontent.com/a/default-user=s128",
      "userId": "112190834652344403648"
     },
     "user_tz": -330
    },
    "id": "TFbyp1p2u9yy",
    "outputId": "6e73bff4-fd64-49e6-9254-4c0c5b2d203d"
   },
   "outputs": [
    {
     "data": {
      "text/plain": [
       "<matplotlib.axes._subplots.AxesSubplot at 0x7f29d61ad908>"
      ]
     },
     "execution_count": 14,
     "metadata": {
      "tags": []
     },
     "output_type": "execute_result"
    },
    {
     "data": {
      "image/png": "[encoded data removed]",
      "text/plain": [
       "<matplotlib.figure.Figure at 0x7f29d8257dd8>"
      ]
     },
     "metadata": {
      "tags": []
     },
     "output_type": "display_data"
    }
   ],
   "source": [
    "plt.figure(figsize=(20, 5))\n",
    "dataset_train[\"Avg_rad\"].plot()"
   ]
  },
  {
   "cell_type": "markdown",
   "metadata": {
    "colab_type": "text",
    "id": "LY41nRH5w8xh"
   },
   "source": [
    "**cols is the numer of predictors **"
   ]
  },
  {
   "cell_type": "code",
   "execution_count": 0,
   "metadata": {
    "colab": {
     "autoexec": {
      "startup": false,
      "wait_interval": 0
     }
    },
    "colab_type": "code",
    "id": "VaevTalfu9wI"
   },
   "outputs": [],
   "source": [
    "cols = 10"
   ]
  },
  {
   "cell_type": "code",
   "execution_count": 0,
   "metadata": {
    "colab": {
     "autoexec": {
      "startup": false,
      "wait_interval": 0
     }
    },
    "colab_type": "code",
    "id": "9aD9rv2MxQAh"
   },
   "outputs": [],
   "source": [
    "training_set = dataset_train.iloc[:, 1:cols].values"
   ]
  },
  {
   "cell_type": "code",
   "execution_count": 18,
   "metadata": {
    "colab": {
     "autoexec": {
      "startup": false,
      "wait_interval": 0
     },
     "base_uri": "https://localhost:8080/",
     "height": 34
    },
    "colab_type": "code",
    "executionInfo": {
     "elapsed": 907,
     "status": "ok",
     "timestamp": 1531390204969,
     "user": {
      "displayName": "Akshaj Verma",
      "photoUrl": "https://lh3.googleusercontent.com/a/default-user=s128",
      "userId": "112190834652344403648"
     },
     "user_tz": -330
    },
    "id": "vw9QGu_TxfI_",
    "outputId": "659dcff7-11a9-48b3-d242-b45179da289a"
   },
   "outputs": [
    {
     "data": {
      "text/plain": [
       "(8232, 9)"
      ]
     },
     "execution_count": 18,
     "metadata": {
      "tags": []
     },
     "output_type": "execute_result"
    }
   ],
   "source": [
    "training_set.shape"
   ]
  },
  {
   "cell_type": "markdown",
   "metadata": {
    "colab_type": "text",
    "id": "m_Z-oGbMxi4t"
   },
   "source": [
    "**Normalize the training data.**"
   ]
  },
  {
   "cell_type": "code",
   "execution_count": 0,
   "metadata": {
    "colab": {
     "autoexec": {
      "startup": false,
      "wait_interval": 0
     }
    },
    "colab_type": "code",
    "id": "cSkALuLTxlml"
   },
   "outputs": [],
   "source": [
    "sc = MinMaxScaler(feature_range=(0, 1))\n",
    "training_set_scaled = sc.fit_transform(training_set)"
   ]
  },
  {
   "cell_type": "code",
   "execution_count": 0,
   "metadata": {
    "colab": {
     "autoexec": {
      "startup": false,
      "wait_interval": 0
     }
    },
    "colab_type": "code",
    "id": "ywiRkOZMxmvs"
   },
   "outputs": [],
   "source": [
    "X_train = []\n",
    "y_train = []"
   ]
  },
  {
   "cell_type": "code",
   "execution_count": 21,
   "metadata": {
    "colab": {
     "autoexec": {
      "startup": false,
      "wait_interval": 0
     },
     "base_uri": "https://localhost:8080/",
     "height": 206
    },
    "colab_type": "code",
    "executionInfo": {
     "elapsed": 951,
     "status": "ok",
     "timestamp": 1531390209997,
     "user": {
      "displayName": "Akshaj Verma",
      "photoUrl": "https://lh3.googleusercontent.com/a/default-user=s128",
      "userId": "112190834652344403648"
     },
     "user_tz": -330
    },
    "id": "vth4fcz_yJRz",
    "outputId": "6107e3c6-d342-4929-fc47-b7a519196317"
   },
   "outputs": [
    {
     "data": {
      "text/html": [
       "<div>\n",
       "<style scoped>\n",
       "    .dataframe tbody tr th:only-of-type {\n",
       "        vertical-align: middle;\n",
       "    }\n",
       "\n",
       "    .dataframe tbody tr th {\n",
       "        vertical-align: top;\n",
       "    }\n",
       "\n",
       "    .dataframe thead th {\n",
       "        text-align: right;\n",
       "    }\n",
       "</style>\n",
       "<table border=\"1\" class=\"dataframe\">\n",
       "  <thead>\n",
       "    <tr style=\"text-align: right;\">\n",
       "      <th></th>\n",
       "      <th>Date</th>\n",
       "      <th>Avg_rad</th>\n",
       "      <th>SE</th>\n",
       "      <th>SA</th>\n",
       "      <th>TEMP</th>\n",
       "      <th>AP</th>\n",
       "      <th>RH</th>\n",
       "      <th>WS</th>\n",
       "      <th>WD</th>\n",
       "      <th>PWAT</th>\n",
       "    </tr>\n",
       "  </thead>\n",
       "  <tbody>\n",
       "    <tr>\n",
       "      <th>0</th>\n",
       "      <td>1994-01-01</td>\n",
       "      <td>154.916667</td>\n",
       "      <td>-17.118333</td>\n",
       "      <td>-2.526667</td>\n",
       "      <td>11.808333</td>\n",
       "      <td>968.900000</td>\n",
       "      <td>44.304167</td>\n",
       "      <td>4.195833</td>\n",
       "      <td>301.375000</td>\n",
       "      <td>6.641667</td>\n",
       "    </tr>\n",
       "    <tr>\n",
       "      <th>1</th>\n",
       "      <td>1994-01-02</td>\n",
       "      <td>183.802083</td>\n",
       "      <td>-12.861250</td>\n",
       "      <td>-5.042500</td>\n",
       "      <td>7.437500</td>\n",
       "      <td>965.879167</td>\n",
       "      <td>66.295833</td>\n",
       "      <td>1.420833</td>\n",
       "      <td>209.666667</td>\n",
       "      <td>9.058333</td>\n",
       "    </tr>\n",
       "    <tr>\n",
       "      <th>2</th>\n",
       "      <td>1994-01-03</td>\n",
       "      <td>89.604167</td>\n",
       "      <td>-5.719583</td>\n",
       "      <td>-4.917500</td>\n",
       "      <td>9.283333</td>\n",
       "      <td>956.462500</td>\n",
       "      <td>70.662500</td>\n",
       "      <td>3.275000</td>\n",
       "      <td>123.625000</td>\n",
       "      <td>13.420833</td>\n",
       "    </tr>\n",
       "    <tr>\n",
       "      <th>3</th>\n",
       "      <td>1994-01-04</td>\n",
       "      <td>213.489583</td>\n",
       "      <td>3.547917</td>\n",
       "      <td>-2.772083</td>\n",
       "      <td>17.562500</td>\n",
       "      <td>961.125000</td>\n",
       "      <td>36.558333</td>\n",
       "      <td>4.900000</td>\n",
       "      <td>310.000000</td>\n",
       "      <td>13.445833</td>\n",
       "    </tr>\n",
       "    <tr>\n",
       "      <th>4</th>\n",
       "      <td>1994-01-05</td>\n",
       "      <td>296.333333</td>\n",
       "      <td>11.472500</td>\n",
       "      <td>-0.962917</td>\n",
       "      <td>14.608333</td>\n",
       "      <td>965.758333</td>\n",
       "      <td>50.462500</td>\n",
       "      <td>2.154167</td>\n",
       "      <td>87.666667</td>\n",
       "      <td>8.287500</td>\n",
       "    </tr>\n",
       "  </tbody>\n",
       "</table>\n",
       "</div>"
      ],
      "text/plain": [
       "        Date     Avg_rad         SE        SA       TEMP          AP  \\\n",
       "0 1994-01-01  154.916667 -17.118333 -2.526667  11.808333  968.900000   \n",
       "1 1994-01-02  183.802083 -12.861250 -5.042500   7.437500  965.879167   \n",
       "2 1994-01-03   89.604167  -5.719583 -4.917500   9.283333  956.462500   \n",
       "3 1994-01-04  213.489583   3.547917 -2.772083  17.562500  961.125000   \n",
       "4 1994-01-05  296.333333  11.472500 -0.962917  14.608333  965.758333   \n",
       "\n",
       "          RH        WS          WD       PWAT  \n",
       "0  44.304167  4.195833  301.375000   6.641667  \n",
       "1  66.295833  1.420833  209.666667   9.058333  \n",
       "2  70.662500  3.275000  123.625000  13.420833  \n",
       "3  36.558333  4.900000  310.000000  13.445833  \n",
       "4  50.462500  2.154167   87.666667   8.287500  "
      ]
     },
     "execution_count": 21,
     "metadata": {
      "tags": []
     },
     "output_type": "execute_result"
    }
   ],
   "source": [
    "dataset_train.head()"
   ]
  },
  {
   "cell_type": "markdown",
   "metadata": {
    "colab_type": "text",
    "id": "WRW6Ehe2x50v"
   },
   "source": [
    "**Here, we are looking the previous 60 day data to predict on the 61st day. That is, we train our model on previous 60 days data to predict 1 day in the future. We are using the `Avg_rad, SE, SA, TEMP, AP, RH, WS, WD, PWAT` of previous 60 days to predict the `Avg_rad` of the next 1 day.**"
   ]
  },
  {
   "cell_type": "code",
   "execution_count": 0,
   "metadata": {
    "colab": {
     "autoexec": {
      "startup": false,
      "wait_interval": 0
     }
    },
    "colab_type": "code",
    "id": "AcAdI9yO04Tn"
   },
   "outputs": [],
   "source": [
    "timesteps = 60"
   ]
  },
  {
   "cell_type": "code",
   "execution_count": 0,
   "metadata": {
    "colab": {
     "autoexec": {
      "startup": false,
      "wait_interval": 0
     }
    },
    "colab_type": "code",
    "id": "n-Axra00x2Zr"
   },
   "outputs": [],
   "source": [
    "for i in range(timesteps, len(training_set_scaled)):\n",
    "    X_train.append(training_set_scaled[i-timesteps:i, :])\n",
    "    y_train.append(training_set_scaled[i, 0])\n",
    "\n",
    "    \n",
    "X_train, y_train = np.array(X_train), np.array(y_train)   "
   ]
  },
  {
   "cell_type": "code",
   "execution_count": 24,
   "metadata": {
    "colab": {
     "autoexec": {
      "startup": false,
      "wait_interval": 0
     },
     "base_uri": "https://localhost:8080/",
     "height": 52
    },
    "colab_type": "code",
    "executionInfo": {
     "elapsed": 1532,
     "status": "ok",
     "timestamp": 1531390214952,
     "user": {
      "displayName": "Akshaj Verma",
      "photoUrl": "https://lh3.googleusercontent.com/a/default-user=s128",
      "userId": "112190834652344403648"
     },
     "user_tz": -330
    },
    "id": "UZNZ5-q-02cc",
    "outputId": "2134728b-4c63-4d61-b8d3-f4e25a869908"
   },
   "outputs": [
    {
     "name": "stdout",
     "output_type": "stream",
     "text": [
      "X_train:  (8172, 60, 9)\n",
      "y_train:  (8172,)\n"
     ]
    }
   ],
   "source": [
    "print(\"X_train: \", X_train.shape)\n",
    "print(\"y_train: \", y_train.shape)"
   ]
  },
  {
   "cell_type": "markdown",
   "metadata": {
    "colab_type": "text",
    "id": "mtr36GJf8oo2"
   },
   "source": [
    "**Train using GridSearchCV**"
   ]
  },
  {
   "cell_type": "code",
   "execution_count": 0,
   "metadata": {
    "colab": {
     "autoexec": {
      "startup": false,
      "wait_interval": 0
     }
    },
    "colab_type": "code",
    "id": "K82_oQD91EsE"
   },
   "outputs": [],
   "source": [
    "# def build_regressor(optim):\n",
    "#     regressor = Sequential()\n",
    "#     regressor.add(LSTM(units=50, return_sequences=True, input_shape=(X_train.shape[1], cols-1)))\n",
    "#     regressor.add(Dropout(rate=0.2))\n",
    "\n",
    "#     regressor.add(LSTM(units=50, return_sequences=True))\n",
    "#     regressor.add(Dropout(rate=0.2))\n",
    "\n",
    "#     regressor.add(LSTM(units=50, return_sequences=True))\n",
    "#     regressor.add(Dropout(rate=0.2))\n",
    "\n",
    "#     regressor.add(LSTM(units=50, return_sequences=True))\n",
    "#     regressor.add(Dropout(rate=0.2))\n",
    "\n",
    "#     regressor.add(LSTM(units=50))\n",
    "#     regressor.add(Dropout(rate=0.2))\n",
    "    \n",
    "#     regressor.add(Dense(units=1))\n",
    "    \n",
    "#     regressor.compile(optimizer=optim, loss=\"mean_squared_error\")\n",
    "\n",
    "#     return regressor"
   ]
  },
  {
   "cell_type": "code",
   "execution_count": 0,
   "metadata": {
    "colab": {
     "autoexec": {
      "startup": false,
      "wait_interval": 0
     }
    },
    "colab_type": "code",
    "id": "A5CUpEWY4Dhm"
   },
   "outputs": [],
   "source": [
    "# model_regressor = KerasClassifier(build_fn = build_regressor)"
   ]
  },
  {
   "cell_type": "code",
   "execution_count": 0,
   "metadata": {
    "colab": {
     "autoexec": {
      "startup": false,
      "wait_interval": 0
     }
    },
    "colab_type": "code",
    "id": "BxINYJ8c4Khq"
   },
   "outputs": [],
   "source": [
    "# params = {\n",
    "#     'batch_size': [32, 64],\n",
    "#     'nb_epoch': [100, 120],\n",
    "#     'optim': [\"adam\"]\n",
    "# }"
   ]
  },
  {
   "cell_type": "code",
   "execution_count": 0,
   "metadata": {
    "colab": {
     "autoexec": {
      "startup": false,
      "wait_interval": 0
     }
    },
    "colab_type": "code",
    "id": "jTlcIJAM4ePw"
   },
   "outputs": [],
   "source": [
    "# grid_search = GridSearchCV(estimator=model_regressor, \n",
    "#                           param_grid=params, \n",
    "#                           scoring=\"neg_mean_squared_error\",\n",
    "#                           cv=10)"
   ]
  },
  {
   "cell_type": "code",
   "execution_count": 0,
   "metadata": {
    "colab": {
     "autoexec": {
      "startup": false,
      "wait_interval": 0
     }
    },
    "colab_type": "code",
    "id": "93Ir7bOi5N8n"
   },
   "outputs": [],
   "source": [
    "# grid_search = grid_search.fit(X_train, y_train)"
   ]
  },
  {
   "cell_type": "markdown",
   "metadata": {
    "colab_type": "text",
    "id": "w1t0Y_gY81dp"
   },
   "source": [
    "** Vanilla Training + Keras Callbacks**"
   ]
  },
  {
   "cell_type": "code",
   "execution_count": 0,
   "metadata": {
    "colab": {
     "autoexec": {
      "startup": false,
      "wait_interval": 0
     }
    },
    "colab_type": "code",
    "id": "vdLQtFNB5Wzg"
   },
   "outputs": [],
   "source": [
    "regressor = Sequential()\n",
    "regressor.add(LSTM(units=50, return_sequences=True, input_shape=(X_train.shape[1], cols-1)))\n",
    "regressor.add(Dropout(rate=0.2))\n",
    "\n",
    "regressor.add(LSTM(units=50, return_sequences=True))\n",
    "regressor.add(Dropout(rate=0.2))\n",
    "\n",
    "regressor.add(LSTM(units=50, return_sequences=True))\n",
    "regressor.add(Dropout(rate=0.2))\n",
    "\n",
    "regressor.add(LSTM(units=50, return_sequences=True))\n",
    "regressor.add(Dropout(rate=0.2))\n",
    "\n",
    "regressor.add(LSTM(units=50))\n",
    "regressor.add(Dropout(rate=0.2))\n",
    "\n",
    "regressor.add(Dense(units=1))"
   ]
  },
  {
   "cell_type": "code",
   "execution_count": 0,
   "metadata": {
    "colab": {
     "autoexec": {
      "startup": false,
      "wait_interval": 0
     }
    },
    "colab_type": "code",
    "id": "VMWjq_iS89Gm"
   },
   "outputs": [],
   "source": [
    "regressor.compile(optimizer=\"adam\", loss=\"mean_squared_error\")"
   ]
  },
  {
   "cell_type": "code",
   "execution_count": 0,
   "metadata": {
    "colab": {
     "autoexec": {
      "startup": false,
      "wait_interval": 0
     }
    },
    "colab_type": "code",
    "id": "kCEKCzar1iSZ"
   },
   "outputs": [],
   "source": [
    "es = EarlyStopping(monitor='val_loss', min_delta=1e-10, patience=10, verbose=1)    \n",
    "rlr = ReduceLROnPlateau(monitor='val_loss', factor=0.5, patience=5, verbose=1)\n",
    "mcp = ModelCheckpoint(filepath='solar_irrad_pred_solargis_1.h5', monitor='val_loss', verbose=1, save_best_only=True, save_weights_only=True)\n",
    "tb = TensorBoard('logs')"
   ]
  },
  {
   "cell_type": "code",
   "execution_count": 33,
   "metadata": {
    "colab": {
     "autoexec": {
      "startup": false,
      "wait_interval": 0
     },
     "base_uri": "https://localhost:8080/",
     "height": 3615
    },
    "colab_type": "code",
    "executionInfo": {
     "elapsed": 11617283,
     "status": "ok",
     "timestamp": 1531401860775,
     "user": {
      "displayName": "Akshaj Verma",
      "photoUrl": "https://lh3.googleusercontent.com/a/default-user=s128",
      "userId": "112190834652344403648"
     },
     "user_tz": -330
    },
    "id": "5LRaFrNx1xDW",
    "outputId": "82151814-1a3a-41e2-f745-7eb5b17a0e4f"
   },
   "outputs": [
    {
     "name": "stdout",
     "output_type": "stream",
     "text": [
      "Epoch 1/100\n",
      "8172/8172 [==============================] - 127s 16ms/step - loss: 0.0662\n",
      "Epoch 2/100\n"
     ]
    },
    {
     "name": "stderr",
     "output_type": "stream",
     "text": [
      "/usr/local/lib/python3.6/dist-packages/keras/callbacks.py:526: RuntimeWarning: Early stopping conditioned on metric `val_loss` which is not available. Available metrics are: loss\n",
      "  (self.monitor, ','.join(list(logs.keys()))), RuntimeWarning\n",
      "/usr/local/lib/python3.6/dist-packages/keras/callbacks.py:972: RuntimeWarning: Reduce LR on plateau conditioned on metric `val_loss` which is not available. Available metrics are: loss,lr\n",
      "  (self.monitor, ','.join(list(logs.keys()))), RuntimeWarning\n",
      "/usr/local/lib/python3.6/dist-packages/keras/callbacks.py:435: RuntimeWarning: Can save best model only with val_loss available, skipping.\n",
      "  'skipping.' % (self.monitor), RuntimeWarning)\n"
     ]
    },
    {
     "name": "stdout",
     "output_type": "stream",
     "text": [
      "8172/8172 [==============================] - 121s 15ms/step - loss: 0.0498\n",
      "Epoch 3/100\n",
      "8172/8172 [==============================] - 117s 14ms/step - loss: 0.0462\n",
      "Epoch 4/100\n",
      "8172/8172 [==============================] - 120s 15ms/step - loss: 0.0441\n",
      "Epoch 5/100\n",
      "7680/8172 [===========================>..] - ETA: 6s - loss: 0.04278172/8172 [==============================] - 110s 13ms/step - loss: 0.0425\n",
      "Epoch 6/100\n",
      "8172/8172 [==============================] - 110s 13ms/step - loss: 0.0425\n",
      "Epoch 7/100\n",
      "8172/8172 [==============================] - 110s 14ms/step - loss: 0.0415\n",
      "Epoch 8/100\n",
      "8172/8172 [==============================] - 110s 13ms/step - loss: 0.0405\n",
      "Epoch 9/100\n",
      " 832/8172 [==>...........................] - ETA: 1:36 - loss: 0.04338172/8172 [==============================] - 113s 14ms/step - loss: 0.0401\n",
      "Epoch 10/100\n",
      "8172/8172 [==============================] - 122s 15ms/step - loss: 0.0402\n",
      "Epoch 11/100\n",
      "8172/8172 [==============================] - 117s 14ms/step - loss: 0.0393\n",
      "Epoch 12/100\n",
      "7680/8172 [===========================>..] - ETA: 7s - loss: 0.03958172/8172 [==============================] - 121s 15ms/step - loss: 0.0394\n",
      "Epoch 13/100\n",
      "8172/8172 [==============================] - 118s 14ms/step - loss: 0.0388\n",
      "Epoch 14/100\n",
      "8172/8172 [==============================] - 121s 15ms/step - loss: 0.0373\n",
      "Epoch 15/100\n",
      "8172/8172 [==============================] - 119s 15ms/step - loss: 0.0358\n",
      "Epoch 16/100\n",
      " 640/8172 [=>............................] - ETA: 1:40 - loss: 0.03718172/8172 [==============================] - 115s 14ms/step - loss: 0.0353\n",
      "Epoch 17/100\n",
      "8172/8172 [==============================] - 116s 14ms/step - loss: 0.0350\n",
      "Epoch 18/100\n",
      "8172/8172 [==============================] - 114s 14ms/step - loss: 0.0342\n",
      "Epoch 19/100\n",
      "7680/8172 [===========================>..] - ETA: 6s - loss: 0.03438172/8172 [==============================] - 115s 14ms/step - loss: 0.0343\n",
      "Epoch 20/100\n",
      "8172/8172 [==============================] - 115s 14ms/step - loss: 0.0342\n",
      "Epoch 21/100\n",
      "8172/8172 [==============================] - 114s 14ms/step - loss: 0.0336\n",
      "Epoch 22/100\n",
      "8172/8172 [==============================] - 116s 14ms/step - loss: 0.0333\n",
      "Epoch 23/100\n",
      " 704/8172 [=>............................] - ETA: 1:56 - loss: 0.03408172/8172 [==============================] - 114s 14ms/step - loss: 0.0333\n",
      "Epoch 24/100\n",
      "8172/8172 [==============================] - 117s 14ms/step - loss: 0.0327\n",
      "Epoch 25/100\n",
      "8172/8172 [==============================] - 117s 14ms/step - loss: 0.0326\n",
      "Epoch 26/100\n",
      "7680/8172 [===========================>..] - ETA: 7s - loss: 0.03228172/8172 [==============================] - 118s 14ms/step - loss: 0.0322\n",
      "Epoch 27/100\n",
      "8172/8172 [==============================] - 118s 14ms/step - loss: 0.0322\n",
      "Epoch 28/100\n",
      "8172/8172 [==============================] - 115s 14ms/step - loss: 0.0324\n",
      "Epoch 29/100\n",
      "8172/8172 [==============================] - 114s 14ms/step - loss: 0.0317\n",
      "Epoch 30/100\n",
      " 704/8172 [=>............................] - ETA: 1:47 - loss: 0.03298172/8172 [==============================] - 113s 14ms/step - loss: 0.0318\n",
      "Epoch 31/100\n",
      "8172/8172 [==============================] - 112s 14ms/step - loss: 0.0319\n",
      "Epoch 32/100\n",
      "8172/8172 [==============================] - 114s 14ms/step - loss: 0.0311\n",
      "Epoch 33/100\n",
      "7680/8172 [===========================>..] - ETA: 6s - loss: 0.03198172/8172 [==============================] - 111s 14ms/step - loss: 0.0316\n",
      "Epoch 34/100\n",
      "8172/8172 [==============================] - 112s 14ms/step - loss: 0.0313\n",
      "Epoch 35/100\n",
      "8172/8172 [==============================] - 112s 14ms/step - loss: 0.0307\n",
      "Epoch 36/100\n",
      "8172/8172 [==============================] - 116s 14ms/step - loss: 0.0307\n",
      "Epoch 37/100\n",
      " 704/8172 [=>............................] - ETA: 1:51 - loss: 0.02928172/8172 [==============================] - 118s 14ms/step - loss: 0.0303\n",
      "Epoch 38/100\n",
      "8172/8172 [==============================] - 116s 14ms/step - loss: 0.0307\n",
      "Epoch 39/100\n",
      "8172/8172 [==============================] - 118s 14ms/step - loss: 0.0301\n",
      "Epoch 40/100\n",
      "7680/8172 [===========================>..] - ETA: 6s - loss: 0.03008172/8172 [==============================] - 116s 14ms/step - loss: 0.0301\n",
      "Epoch 41/100\n",
      "8172/8172 [==============================] - 118s 14ms/step - loss: 0.0303\n",
      "Epoch 42/100\n",
      "8172/8172 [==============================] - 116s 14ms/step - loss: 0.0302\n",
      "Epoch 43/100\n",
      "8172/8172 [==============================] - 114s 14ms/step - loss: 0.0301\n",
      "Epoch 44/100\n",
      " 704/8172 [=>............................] - ETA: 1:46 - loss: 0.02898172/8172 [==============================] - 115s 14ms/step - loss: 0.0298\n",
      "Epoch 45/100\n",
      "8172/8172 [==============================] - 114s 14ms/step - loss: 0.0295\n",
      "Epoch 46/100\n",
      "8172/8172 [==============================] - 112s 14ms/step - loss: 0.0298\n",
      "Epoch 47/100\n",
      "7680/8172 [===========================>..] - ETA: 6s - loss: 0.02938172/8172 [==============================] - 109s 13ms/step - loss: 0.0295\n",
      "Epoch 48/100\n",
      "8172/8172 [==============================] - 111s 14ms/step - loss: 0.0293\n",
      "Epoch 49/100\n",
      "8172/8172 [==============================] - 117s 14ms/step - loss: 0.0292\n",
      "Epoch 50/100\n",
      "8172/8172 [==============================] - 120s 15ms/step - loss: 0.0287\n",
      "Epoch 51/100\n",
      " 704/8172 [=>............................] - ETA: 1:45 - loss: 0.02978172/8172 [==============================] - 118s 14ms/step - loss: 0.0293\n",
      "Epoch 52/100\n",
      "8172/8172 [==============================] - 118s 14ms/step - loss: 0.0291\n",
      "Epoch 53/100\n",
      "8172/8172 [==============================] - 122s 15ms/step - loss: 0.0286\n",
      "Epoch 54/100\n",
      "7680/8172 [===========================>..] - ETA: 6s - loss: 0.02848172/8172 [==============================] - 117s 14ms/step - loss: 0.0284\n",
      "Epoch 55/100\n",
      "8172/8172 [==============================] - 115s 14ms/step - loss: 0.0284\n",
      "Epoch 56/100\n",
      "8172/8172 [==============================] - 115s 14ms/step - loss: 0.0283\n",
      "Epoch 57/100\n",
      "8172/8172 [==============================] - 115s 14ms/step - loss: 0.0284\n",
      "Epoch 58/100\n",
      " 704/8172 [=>............................] - ETA: 1:46 - loss: 0.02828172/8172 [==============================] - 115s 14ms/step - loss: 0.0279\n",
      "Epoch 59/100\n",
      "8172/8172 [==============================] - 115s 14ms/step - loss: 0.0275\n",
      "Epoch 60/100\n",
      "8172/8172 [==============================] - 115s 14ms/step - loss: 0.0277\n",
      "Epoch 61/100\n",
      "7680/8172 [===========================>..] - ETA: 6s - loss: 0.02768172/8172 [==============================] - 115s 14ms/step - loss: 0.0277\n",
      "Epoch 62/100\n",
      "8172/8172 [==============================] - 117s 14ms/step - loss: 0.0277\n",
      "Epoch 63/100\n",
      "8172/8172 [==============================] - 118s 14ms/step - loss: 0.0276\n",
      "Epoch 64/100\n",
      "8172/8172 [==============================] - 120s 15ms/step - loss: 0.0276\n",
      "Epoch 65/100\n",
      " 640/8172 [=>............................] - ETA: 1:59 - loss: 0.02978172/8172 [==============================] - 121s 15ms/step - loss: 0.0270\n",
      "Epoch 66/100\n",
      "8172/8172 [==============================] - 119s 15ms/step - loss: 0.0270\n",
      "Epoch 67/100\n",
      "8172/8172 [==============================] - 122s 15ms/step - loss: 0.0270\n",
      "Epoch 68/100\n",
      "7680/8172 [===========================>..] - ETA: 7s - loss: 0.02778172/8172 [==============================] - 117s 14ms/step - loss: 0.0274\n",
      "Epoch 69/100\n",
      "8172/8172 [==============================] - 116s 14ms/step - loss: 0.0272\n",
      "Epoch 70/100\n",
      "8172/8172 [==============================] - 114s 14ms/step - loss: 0.0266\n",
      "Epoch 71/100\n",
      "8172/8172 [==============================] - 115s 14ms/step - loss: 0.0267\n",
      "Epoch 72/100\n",
      " 704/8172 [=>............................] - ETA: 1:39 - loss: 0.02708172/8172 [==============================] - 116s 14ms/step - loss: 0.0263\n",
      "Epoch 73/100\n",
      "8172/8172 [==============================] - 115s 14ms/step - loss: 0.0263\n",
      "Epoch 74/100\n",
      "8172/8172 [==============================] - 117s 14ms/step - loss: 0.0264\n",
      "Epoch 75/100\n",
      "7680/8172 [===========================>..] - ETA: 7s - loss: 0.02578172/8172 [==============================] - 122s 15ms/step - loss: 0.0258\n",
      "Epoch 76/100\n",
      "8172/8172 [==============================] - 117s 14ms/step - loss: 0.0257\n",
      "Epoch 77/100\n",
      "8172/8172 [==============================] - 118s 14ms/step - loss: 0.0257\n",
      "Epoch 78/100\n",
      "8172/8172 [==============================] - 116s 14ms/step - loss: 0.0259\n",
      "Epoch 79/100\n"
     ]
    },
    {
     "name": "stdout",
     "output_type": "stream",
     "text": [
      " 704/8172 [=>............................] - ETA: 1:40 - loss: 0.02828172/8172 [==============================] - 117s 14ms/step - loss: 0.0256\n",
      "Epoch 80/100\n",
      "8172/8172 [==============================] - 124s 15ms/step - loss: 0.0255\n",
      "Epoch 81/100\n",
      "8172/8172 [==============================] - 117s 14ms/step - loss: 0.0255\n",
      "Epoch 82/100\n",
      "7680/8172 [===========================>..] - ETA: 7s - loss: 0.02508172/8172 [==============================] - 118s 14ms/step - loss: 0.0251\n",
      "Epoch 83/100\n",
      "8172/8172 [==============================] - 111s 14ms/step - loss: 0.0252\n",
      "Epoch 84/100\n",
      "8172/8172 [==============================] - 110s 13ms/step - loss: 0.0247\n",
      "Epoch 85/100\n",
      "8172/8172 [==============================] - 110s 14ms/step - loss: 0.0247\n",
      "Epoch 86/100\n",
      " 704/8172 [=>............................] - ETA: 1:41 - loss: 0.02278172/8172 [==============================] - 110s 13ms/step - loss: 0.0251\n",
      "Epoch 87/100\n",
      "8172/8172 [==============================] - 110s 14ms/step - loss: 0.0246\n",
      "Epoch 88/100\n",
      "8172/8172 [==============================] - 110s 13ms/step - loss: 0.0247\n",
      "Epoch 89/100\n",
      "7680/8172 [===========================>..] - ETA: 6s - loss: 0.02458172/8172 [==============================] - 111s 14ms/step - loss: 0.0244\n",
      "Epoch 90/100\n",
      "8172/8172 [==============================] - 111s 14ms/step - loss: 0.0245\n",
      "Epoch 91/100\n",
      "8172/8172 [==============================] - 112s 14ms/step - loss: 0.0242\n",
      "Epoch 92/100\n",
      "8172/8172 [==============================] - 121s 15ms/step - loss: 0.0237\n",
      "Epoch 93/100\n",
      " 704/8172 [=>............................] - ETA: 1:45 - loss: 0.02158172/8172 [==============================] - 118s 14ms/step - loss: 0.0242\n",
      "Epoch 94/100\n",
      "8172/8172 [==============================] - 119s 15ms/step - loss: 0.0236\n",
      "Epoch 95/100\n",
      "8172/8172 [==============================] - 118s 14ms/step - loss: 0.0240\n",
      "Epoch 96/100\n",
      "7680/8172 [===========================>..] - ETA: 7s - loss: 0.02358172/8172 [==============================] - 125s 15ms/step - loss: 0.0236\n",
      "Epoch 97/100\n",
      "8172/8172 [==============================] - 121s 15ms/step - loss: 0.0233\n",
      "Epoch 98/100\n",
      "8172/8172 [==============================] - 122s 15ms/step - loss: 0.0233\n",
      "Epoch 99/100\n",
      "8172/8172 [==============================] - 119s 15ms/step - loss: 0.0232\n",
      "Epoch 100/100\n",
      " 640/8172 [=>............................] - ETA: 1:40 - loss: 0.02058172/8172 [==============================] - 117s 14ms/step - loss: 0.0232\n"
     ]
    }
   ],
   "source": [
    "history = regressor.fit(X_train, \n",
    "                        y_train, \n",
    "                        epochs=100,\n",
    "                        callbacks=[es, rlr,mcp, tb], \n",
    "                        verbose=1, \n",
    "                        batch_size=64)"
   ]
  },
  {
   "cell_type": "markdown",
   "metadata": {
    "colab_type": "text",
    "id": "V-PnUwzP2jO2"
   },
   "source": [
    "Actual radiation data from the test set."
   ]
  },
  {
   "cell_type": "code",
   "execution_count": 0,
   "metadata": {
    "colab": {
     "autoexec": {
      "startup": false,
      "wait_interval": 0
     }
    },
    "colab_type": "code",
    "id": "XJ2ib6CY9883"
   },
   "outputs": [],
   "source": [
    "real_irrad_val = dataset_test.iloc[:, 1:2].values"
   ]
  },
  {
   "cell_type": "code",
   "execution_count": 43,
   "metadata": {
    "colab": {
     "autoexec": {
      "startup": false,
      "wait_interval": 0
     },
     "base_uri": "https://localhost:8080/",
     "height": 282
    },
    "colab_type": "code",
    "executionInfo": {
     "elapsed": 1567,
     "status": "ok",
     "timestamp": 1531402781110,
     "user": {
      "displayName": "Akshaj Verma",
      "photoUrl": "https://lh3.googleusercontent.com/a/default-user=s128",
      "userId": "112190834652344403648"
     },
     "user_tz": -330
    },
    "id": "OMx8qMZft1lt",
    "outputId": "fd58ea61-a1f7-4a58-c7e7-8efb646fc26e"
   },
   "outputs": [
    {
     "data": {
      "text/plain": [
       "[<matplotlib.lines.Line2D at 0x7f29a7730e10>]"
      ]
     },
     "execution_count": 43,
     "metadata": {
      "tags": []
     },
     "output_type": "execute_result"
    },
    {
     "data": {
      "image/png": "[encoded data removed]",
      "text/plain": [
       "<matplotlib.figure.Figure at 0x7f29a77a1b38>"
      ]
     },
     "metadata": {
      "tags": []
     },
     "output_type": "display_data"
    }
   ],
   "source": [
    "plt.plot(real_irrad_val)"
   ]
  },
  {
   "cell_type": "code",
   "execution_count": 0,
   "metadata": {
    "colab": {
     "autoexec": {
      "startup": false,
      "wait_interval": 0
     }
    },
    "colab_type": "code",
    "id": "tw1Xziaut81W"
   },
   "outputs": [],
   "source": [
    "dataset_total = pd.concat((dataset_train, dataset_test), axis=0)"
   ]
  },
  {
   "cell_type": "code",
   "execution_count": 46,
   "metadata": {
    "colab": {
     "autoexec": {
      "startup": false,
      "wait_interval": 0
     },
     "base_uri": "https://localhost:8080/",
     "height": 206
    },
    "colab_type": "code",
    "executionInfo": {
     "elapsed": 963,
     "status": "ok",
     "timestamp": 1531402824419,
     "user": {
      "displayName": "Akshaj Verma",
      "photoUrl": "https://lh3.googleusercontent.com/a/default-user=s128",
      "userId": "112190834652344403648"
     },
     "user_tz": -330
    },
    "id": "CDuli_8MuFJr",
    "outputId": "3b7dbd7d-cc6e-4264-83d5-99be34ec9e95"
   },
   "outputs": [
    {
     "data": {
      "text/html": [
       "<div>\n",
       "<style scoped>\n",
       "    .dataframe tbody tr th:only-of-type {\n",
       "        vertical-align: middle;\n",
       "    }\n",
       "\n",
       "    .dataframe tbody tr th {\n",
       "        vertical-align: top;\n",
       "    }\n",
       "\n",
       "    .dataframe thead th {\n",
       "        text-align: right;\n",
       "    }\n",
       "</style>\n",
       "<table border=\"1\" class=\"dataframe\">\n",
       "  <thead>\n",
       "    <tr style=\"text-align: right;\">\n",
       "      <th></th>\n",
       "      <th>Date</th>\n",
       "      <th>Avg_rad</th>\n",
       "      <th>SE</th>\n",
       "      <th>SA</th>\n",
       "      <th>TEMP</th>\n",
       "      <th>AP</th>\n",
       "      <th>RH</th>\n",
       "      <th>WS</th>\n",
       "      <th>WD</th>\n",
       "      <th>PWAT</th>\n",
       "    </tr>\n",
       "  </thead>\n",
       "  <tbody>\n",
       "    <tr>\n",
       "      <th>0</th>\n",
       "      <td>1994-01-01</td>\n",
       "      <td>154.916667</td>\n",
       "      <td>-17.118333</td>\n",
       "      <td>-2.526667</td>\n",
       "      <td>11.808333</td>\n",
       "      <td>968.900000</td>\n",
       "      <td>44.304167</td>\n",
       "      <td>4.195833</td>\n",
       "      <td>301.375000</td>\n",
       "      <td>6.641667</td>\n",
       "    </tr>\n",
       "    <tr>\n",
       "      <th>1</th>\n",
       "      <td>1994-01-02</td>\n",
       "      <td>183.802083</td>\n",
       "      <td>-12.861250</td>\n",
       "      <td>-5.042500</td>\n",
       "      <td>7.437500</td>\n",
       "      <td>965.879167</td>\n",
       "      <td>66.295833</td>\n",
       "      <td>1.420833</td>\n",
       "      <td>209.666667</td>\n",
       "      <td>9.058333</td>\n",
       "    </tr>\n",
       "    <tr>\n",
       "      <th>2</th>\n",
       "      <td>1994-01-03</td>\n",
       "      <td>89.604167</td>\n",
       "      <td>-5.719583</td>\n",
       "      <td>-4.917500</td>\n",
       "      <td>9.283333</td>\n",
       "      <td>956.462500</td>\n",
       "      <td>70.662500</td>\n",
       "      <td>3.275000</td>\n",
       "      <td>123.625000</td>\n",
       "      <td>13.420833</td>\n",
       "    </tr>\n",
       "    <tr>\n",
       "      <th>3</th>\n",
       "      <td>1994-01-04</td>\n",
       "      <td>213.489583</td>\n",
       "      <td>3.547917</td>\n",
       "      <td>-2.772083</td>\n",
       "      <td>17.562500</td>\n",
       "      <td>961.125000</td>\n",
       "      <td>36.558333</td>\n",
       "      <td>4.900000</td>\n",
       "      <td>310.000000</td>\n",
       "      <td>13.445833</td>\n",
       "    </tr>\n",
       "    <tr>\n",
       "      <th>4</th>\n",
       "      <td>1994-01-05</td>\n",
       "      <td>296.333333</td>\n",
       "      <td>11.472500</td>\n",
       "      <td>-0.962917</td>\n",
       "      <td>14.608333</td>\n",
       "      <td>965.758333</td>\n",
       "      <td>50.462500</td>\n",
       "      <td>2.154167</td>\n",
       "      <td>87.666667</td>\n",
       "      <td>8.287500</td>\n",
       "    </tr>\n",
       "  </tbody>\n",
       "</table>\n",
       "</div>"
      ],
      "text/plain": [
       "        Date     Avg_rad         SE        SA       TEMP          AP  \\\n",
       "0 1994-01-01  154.916667 -17.118333 -2.526667  11.808333  968.900000   \n",
       "1 1994-01-02  183.802083 -12.861250 -5.042500   7.437500  965.879167   \n",
       "2 1994-01-03   89.604167  -5.719583 -4.917500   9.283333  956.462500   \n",
       "3 1994-01-04  213.489583   3.547917 -2.772083  17.562500  961.125000   \n",
       "4 1994-01-05  296.333333  11.472500 -0.962917  14.608333  965.758333   \n",
       "\n",
       "          RH        WS          WD       PWAT  \n",
       "0  44.304167  4.195833  301.375000   6.641667  \n",
       "1  66.295833  1.420833  209.666667   9.058333  \n",
       "2  70.662500  3.275000  123.625000  13.420833  \n",
       "3  36.558333  4.900000  310.000000  13.445833  \n",
       "4  50.462500  2.154167   87.666667   8.287500  "
      ]
     },
     "execution_count": 46,
     "metadata": {
      "tags": []
     },
     "output_type": "execute_result"
    }
   ],
   "source": [
    "dataset_total.head()"
   ]
  },
  {
   "cell_type": "code",
   "execution_count": 0,
   "metadata": {
    "colab": {
     "autoexec": {
      "startup": false,
      "wait_interval": 0
     }
    },
    "colab_type": "code",
    "id": "oJKFDHR3uKZc"
   },
   "outputs": [],
   "source": [
    "inputs = dataset_total.iloc[len(dataset_total) - len(dataset_test) - timesteps:, 1:cols].values"
   ]
  },
  {
   "cell_type": "code",
   "execution_count": 49,
   "metadata": {
    "colab": {
     "autoexec": {
      "startup": false,
      "wait_interval": 0
     },
     "base_uri": "https://localhost:8080/",
     "height": 34
    },
    "colab_type": "code",
    "executionInfo": {
     "elapsed": 1189,
     "status": "ok",
     "timestamp": 1531402862724,
     "user": {
      "displayName": "Akshaj Verma",
      "photoUrl": "https://lh3.googleusercontent.com/a/default-user=s128",
      "userId": "112190834652344403648"
     },
     "user_tz": -330
    },
    "id": "rcOnmRb7uRP4",
    "outputId": "bdefa4d8-687f-4ee5-b5cd-a16b2371d63e"
   },
   "outputs": [
    {
     "data": {
      "text/plain": [
       "(229, 9)"
      ]
     },
     "execution_count": 49,
     "metadata": {
      "tags": []
     },
     "output_type": "execute_result"
    }
   ],
   "source": [
    "inputs.shape"
   ]
  },
  {
   "cell_type": "code",
   "execution_count": 0,
   "metadata": {
    "colab": {
     "autoexec": {
      "startup": false,
      "wait_interval": 0
     }
    },
    "colab_type": "code",
    "id": "Ev13Sce2uSur"
   },
   "outputs": [],
   "source": [
    "inputs = sc.transform(inputs)"
   ]
  },
  {
   "cell_type": "code",
   "execution_count": 0,
   "metadata": {
    "colab": {
     "autoexec": {
      "startup": false,
      "wait_interval": 0
     }
    },
    "colab_type": "code",
    "id": "X7WQGDCmuZDS"
   },
   "outputs": [],
   "source": [
    "X_test = []\n",
    "for i in range(timesteps, timesteps + len(dataset_test)):\n",
    "    X_test.append(inputs[i - timesteps:i, 0:cols])\n",
    "    \n",
    "X_test = np.array(X_test)    "
   ]
  },
  {
   "cell_type": "code",
   "execution_count": 53,
   "metadata": {
    "colab": {
     "autoexec": {
      "startup": false,
      "wait_interval": 0
     },
     "base_uri": "https://localhost:8080/",
     "height": 34
    },
    "colab_type": "code",
    "executionInfo": {
     "elapsed": 1042,
     "status": "ok",
     "timestamp": 1531402903331,
     "user": {
      "displayName": "Akshaj Verma",
      "photoUrl": "https://lh3.googleusercontent.com/a/default-user=s128",
      "userId": "112190834652344403648"
     },
     "user_tz": -330
    },
    "id": "uoTIgAalub_Q",
    "outputId": "d81665c4-6963-4381-e356-8a60b14b4bc4"
   },
   "outputs": [
    {
     "data": {
      "text/plain": [
       "(169, 60, 9)"
      ]
     },
     "execution_count": 53,
     "metadata": {
      "tags": []
     },
     "output_type": "execute_result"
    }
   ],
   "source": [
    "X_test.shape"
   ]
  },
  {
   "cell_type": "markdown",
   "metadata": {
    "colab_type": "text",
    "id": "HX2UbwLJ2t3T"
   },
   "source": [
    "Predict values."
   ]
  },
  {
   "cell_type": "code",
   "execution_count": 0,
   "metadata": {
    "colab": {
     "autoexec": {
      "startup": false,
      "wait_interval": 0
     }
    },
    "colab_type": "code",
    "id": "WqF-9nZludo3"
   },
   "outputs": [],
   "source": [
    "predicted_irrad_val = regressor.predict(X_test)"
   ]
  },
  {
   "cell_type": "code",
   "execution_count": 61,
   "metadata": {
    "colab": {
     "autoexec": {
      "startup": false,
      "wait_interval": 0
     },
     "base_uri": "https://localhost:8080/",
     "height": 34
    },
    "colab_type": "code",
    "executionInfo": {
     "elapsed": 804,
     "status": "ok",
     "timestamp": 1531403100216,
     "user": {
      "displayName": "Akshaj Verma",
      "photoUrl": "https://lh3.googleusercontent.com/a/default-user=s128",
      "userId": "112190834652344403648"
     },
     "user_tz": -330
    },
    "id": "4V4JnbIWuiue",
    "outputId": "803bda07-16f0-441e-b1dd-26cfcf7b875c"
   },
   "outputs": [
    {
     "data": {
      "text/plain": [
       "(169, 1)"
      ]
     },
     "execution_count": 61,
     "metadata": {
      "tags": []
     },
     "output_type": "execute_result"
    }
   ],
   "source": [
    "predicted_irrad_val.shape"
   ]
  },
  {
   "cell_type": "code",
   "execution_count": 0,
   "metadata": {
    "colab": {
     "autoexec": {
      "startup": false,
      "wait_interval": 0
     }
    },
    "colab_type": "code",
    "id": "82hrLroduku4"
   },
   "outputs": [],
   "source": [
    "temp = np.zeros((len(predicted_irrad_val), cols-1))\n",
    "for i in range(0, len(predicted_irrad_val)):\n",
    "    temp[i,0]=predicted_irrad_val[i, 0]"
   ]
  },
  {
   "cell_type": "code",
   "execution_count": 0,
   "metadata": {
    "colab": {
     "autoexec": {
      "startup": false,
      "wait_interval": 0
     }
    },
    "colab_type": "code",
    "id": "KdgxO0I7unEd"
   },
   "outputs": [],
   "source": [
    "predicted_irrad_val = sc.inverse_transform(temp)[:,0]"
   ]
  },
  {
   "cell_type": "code",
   "execution_count": 64,
   "metadata": {
    "colab": {
     "autoexec": {
      "startup": false,
      "wait_interval": 0
     },
     "base_uri": "https://localhost:8080/",
     "height": 243
    },
    "colab_type": "code",
    "executionInfo": {
     "elapsed": 735,
     "status": "ok",
     "timestamp": 1531403103577,
     "user": {
      "displayName": "Akshaj Verma",
      "photoUrl": "https://lh3.googleusercontent.com/a/default-user=s128",
      "userId": "112190834652344403648"
     },
     "user_tz": -330
    },
    "id": "KdKsa4RxuoVr",
    "outputId": "86c23e84-3b1c-43fd-be26-4bd45b9be2a1"
   },
   "outputs": [
    {
     "data": {
      "text/plain": [
       "array([[0.74001133, 0.        , 0.        , ..., 0.        , 0.        ,\n",
       "        0.        ],\n",
       "       [0.76795346, 0.        , 0.        , ..., 0.        , 0.        ,\n",
       "        0.        ],\n",
       "       [0.81867492, 0.        , 0.        , ..., 0.        , 0.        ,\n",
       "        0.        ],\n",
       "       ...,\n",
       "       [0.37196875, 0.        , 0.        , ..., 0.        , 0.        ,\n",
       "        0.        ],\n",
       "       [0.3980279 , 0.        , 0.        , ..., 0.        , 0.        ,\n",
       "        0.        ],\n",
       "       [0.44637981, 0.        , 0.        , ..., 0.        , 0.        ,\n",
       "        0.        ]])"
      ]
     },
     "execution_count": 64,
     "metadata": {
      "tags": []
     },
     "output_type": "execute_result"
    }
   ],
   "source": [
    "temp"
   ]
  },
  {
   "cell_type": "markdown",
   "metadata": {
    "colab_type": "text",
    "id": "VMCxGdqd2zY7"
   },
   "source": [
    "**Visualize the reults.**"
   ]
  },
  {
   "cell_type": "code",
   "execution_count": 68,
   "metadata": {
    "colab": {
     "autoexec": {
      "startup": false,
      "wait_interval": 0
     },
     "base_uri": "https://localhost:8080/",
     "height": 349
    },
    "colab_type": "code",
    "executionInfo": {
     "elapsed": 1675,
     "status": "ok",
     "timestamp": 1531405142238,
     "user": {
      "displayName": "Akshaj Verma",
      "photoUrl": "https://lh3.googleusercontent.com/a/default-user=s128",
      "userId": "112190834652344403648"
     },
     "user_tz": -330
    },
    "id": "xQ4_WKJmuqHe",
    "outputId": "9e0a147b-5e9b-4dc9-981d-6c82b15205d9"
   },
   "outputs": [
    {
     "data": {
      "image/png": "[encoded data removed]",
      "text/plain": [
       "<matplotlib.figure.Figure at 0x7f29a42f75c0>"
      ]
     },
     "metadata": {
      "tags": []
     },
     "output_type": "display_data"
    }
   ],
   "source": [
    "# Visualising the results\n",
    "plt.figure(figsize=(20, 5))\n",
    "plt.plot(real_irrad_val, color = 'red', label = 'Real Solar Irradiance')\n",
    "plt.plot(predicted_irrad_val, color = 'blue', label = 'Predicted Solar Irradiance')\n",
    "plt.title('Solar Irradiation Prediction')\n",
    "plt.xlabel('Time')\n",
    "plt.ylabel('Solar Irradiation')\n",
    "plt.legend()\n",
    "plt.show()"
   ]
  },
  {
   "cell_type": "code",
   "execution_count": 0,
   "metadata": {
    "colab": {
     "autoexec": {
      "startup": false,
      "wait_interval": 0
     }
    },
    "colab_type": "code",
    "id": "UQJ7eSMzu-g1"
   },
   "outputs": [],
   "source": []
  }
 ],
 "metadata": {
  "accelerator": "GPU",
  "colab": {
   "collapsed_sections": [],
   "default_view": {},
   "name": "SolarIrradiancePrediction.ipynb",
   "provenance": [],
   "version": "0.3.2",
   "views": {}
  },
  "kernelspec": {
   "display_name": "Python 3",
   "language": "python",
   "name": "python3"
  },
  "language_info": {
   "codemirror_mode": {
    "name": "ipython",
    "version": 3
   },
   "file_extension": ".py",
   "mimetype": "text/x-python",
   "name": "python",
   "nbconvert_exporter": "python",
   "pygments_lexer": "ipython3",
   "version": "3.6.4"
  }
 },
 "nbformat": 4,
 "nbformat_minor": 1
}
